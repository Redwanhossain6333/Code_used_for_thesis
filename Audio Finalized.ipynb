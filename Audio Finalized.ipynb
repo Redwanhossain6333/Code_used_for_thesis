{
 "cells": [
  {
   "cell_type": "code",
   "execution_count": 3,
   "metadata": {},
   "outputs": [
    {
     "name": "stdout",
     "output_type": "stream",
     "text": [
      "Features successfully saved to audio_features.csv\n"
     ]
    }
   ],
   "source": [
    "import numpy as np\n",
    "import scipy.stats as stats\n",
    "import pywt\n",
    "import librosa\n",
    "from scipy.stats import skew, kurtosis\n",
    "import pandas as pd\n",
    "\n",
    "# Load the audio file\n",
    "audio_file = \"F://Python all practice//310 Project//audio_sample.wav\"\n",
    "signal, sr = librosa.load(audio_file)\n",
    "\n",
    "# Teager-Kaiser Energy Operator (TKEO) Features\n",
    "tkeo = np.array([signal[i]**2 - signal[i-1] * signal[i+1] for i in range(1, len(signal)-1)])\n",
    "\n",
    "# Wavelet Features\n",
    "wavelet = 'db1'\n",
    "level = 9\n",
    "coeffs = pywt.wavedec(signal, wavelet, level=level)\n",
    "\n",
    "# Calculate Fundamental Frequency (F0)\n",
    "fmin = librosa.note_to_hz('C2')\n",
    "fmax = librosa.note_to_hz('C7')\n",
    "f0, _, _ = librosa.pyin(signal, fmin=fmin, fmax=fmax)\n",
    "lowest_f0 = np.nanmin(f0) if np.any(~np.isnan(f0)) else 0  # Handling case where f0 might be all NaN\n",
    "\n",
    "# MFCC and Delta Features\n",
    "n_mfcc = 20\n",
    "frame_size_ms = 25\n",
    "hop_length_ms = 10\n",
    "frame_size_samples = librosa.time_to_samples(frame_size_ms/1000)\n",
    "hop_length_samples = librosa.time_to_samples(hop_length_ms/1000)\n",
    "mfcc_features = librosa.feature.mfcc(y=signal, sr=sr, n_mfcc=n_mfcc, n_fft=frame_size_samples, hop_length=hop_length_samples)\n",
    "delta_mfcc = librosa.feature.delta(mfcc_features)\n",
    "delta_delta_mfcc = librosa.feature.delta(mfcc_features, order=2)\n",
    "\n",
    "# Initialize an empty dictionary to hold all the features\n",
    "features_dict = {\n",
    "    \"TKEO Mean\": np.mean(tkeo),\n",
    "    \"TKEO Std Deviation\": np.std(tkeo),\n",
    "    \"TKEO Max\": np.max(tkeo),\n",
    "    \"TKEO Min\": np.min(tkeo),\n",
    "    \"TKEO Skewness\": skew(tkeo),\n",
    "    \"TKEO Kurtosis\": kurtosis(tkeo),\n",
    "    \"Fundamental Frequency\": lowest_f0,\n",
    "    \"ZCR\": np.mean(librosa.feature.zero_crossing_rate(signal)),\n",
    "    \"Energy\": np.sum(signal**2) / len(signal),\n",
    "    \"Amplitude\": np.max(np.abs(signal)),\n",
    "    \"Spectral Centroid\": np.mean(librosa.feature.spectral_centroid(y=signal, sr=sr)),\n",
    "    \"Spectral Rolloff\": np.mean(librosa.feature.spectral_rolloff(y=signal, sr=sr)),\n",
    "    \"Spectral Flatness\": np.mean(librosa.feature.spectral_flatness(y=signal)),\n",
    "    \"Spectral Bandwidth\": np.mean(librosa.feature.spectral_bandwidth(y=signal, sr=sr))\n",
    "}\n",
    "\n",
    "# Add MFCC features and their deltas to the dictionary\n",
    "for i in range(n_mfcc):\n",
    "    features_dict[f\"MFCC_{i+1}\"] = mfcc_features[i].mean()\n",
    "    features_dict[f\"Delta MFCC_{i+1}\"] = delta_mfcc[i].mean()\n",
    "    features_dict[f\"Delta-Delta MFCC_{i+1}\"] = delta_delta_mfcc[i].mean()\n",
    "\n",
    "# Add Wavelet features to the dictionary\n",
    "for index, coeff in enumerate(coeffs):\n",
    "    features_dict[f\"Wavelet level {index+1} Energy\"] = np.sum(np.square(coeff))\n",
    "    features_dict[f\"Wavelet level {index+1} Mean\"] = np.mean(coeff)\n",
    "    features_dict[f\"Wavelet level {index+1} Std Deviation\"] = np.std(coeff)\n",
    "    features_dict[f\"Wavelet level {index+1} Max\"] = np.max(coeff)\n",
    "    features_dict[f\"Wavelet level {index+1} Min\"] = np.min(coeff)\n",
    "    features_dict[f\"Wavelet level {index+1} Median\"] = np.median(coeff)\n",
    "    features_dict[f\"Wavelet level {index+1} Skewness\"] = skew(coeff)\n",
    "    features_dict[f\"Wavelet level {index+1} Kurtosis\"] = kurtosis(coeff)\n",
    "\n",
    "# Convert the dictionary to a pandas DataFrame\n",
    "features_df = pd.DataFrame([features_dict])\n",
    "\n",
    "# Save the DataFrame to a CSV file\n",
    "features_df.to_csv(\"audio_features.csv\", index=False)\n",
    "\n",
    "print(\"Features successfully saved to audio_features.csv\")\n"
   ]
  }
 ],
 "metadata": {
  "kernelspec": {
   "display_name": "Python 3",
   "language": "python",
   "name": "python3"
  },
  "language_info": {
   "codemirror_mode": {
    "name": "ipython",
    "version": 3
   },
   "file_extension": ".py",
   "mimetype": "text/x-python",
   "name": "python",
   "nbconvert_exporter": "python",
   "pygments_lexer": "ipython3",
   "version": "3.11.7"
  }
 },
 "nbformat": 4,
 "nbformat_minor": 2
}
