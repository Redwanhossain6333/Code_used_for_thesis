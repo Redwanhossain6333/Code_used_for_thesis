{
 "cells": [
  {
   "cell_type": "code",
   "execution_count": 1,
   "metadata": {},
   "outputs": [
    {
     "name": "stdout",
     "output_type": "stream",
     "text": [
      "WARNING:tensorflow:From c:\\Users\\Windows 10\\AppData\\Local\\Programs\\Python\\Python311\\Lib\\site-packages\\keras\\src\\losses.py:2976: The name tf.losses.sparse_softmax_cross_entropy is deprecated. Please use tf.compat.v1.losses.sparse_softmax_cross_entropy instead.\n",
      "\n"
     ]
    },
    {
     "name": "stderr",
     "output_type": "stream",
     "text": [
      "c:\\Users\\Windows 10\\AppData\\Local\\Programs\\Python\\Python311\\Lib\\site-packages\\google\\protobuf\\symbol_database.py:55: UserWarning: SymbolDatabase.GetPrototype() is deprecated. Please use message_factory.GetMessageClass() instead. SymbolDatabase.GetPrototype() will be removed soon.\n",
      "  warnings.warn('SymbolDatabase.GetPrototype() is deprecated. Please '\n"
     ]
    },
    {
     "name": "stdout",
     "output_type": "stream",
     "text": [
      "Eye feature analysis results saved to eye_features.csv\n"
     ]
    }
   ],
   "source": [
    "import cv2\n",
    "import mediapipe as mp\n",
    "import numpy as np\n",
    "import pandas as pd\n",
    "from scipy import stats\n",
    "\n",
    "# Initialize MediaPipe FaceMesh\n",
    "mp_face_mesh = mp.solutions.face_mesh\n",
    "face_mesh = mp_face_mesh.FaceMesh()\n",
    "\n",
    "# Define the indices for the landmarks associated with the right and left eyes\n",
    "right_eye_indices = [33, 246, 161, 160, 159, 158, 157, 173, 133, 7, 163, 144, 145, 153, 154, 155]\n",
    "left_eye_indices = [362, 398, 384, 385, 386, 387, 388, 466, 263, 249, 390, 373, 374, 380, 381, 382]\n",
    "\n",
    "# Initialize VideoCapture with the video file\n",
    "cap = cv2.VideoCapture(\"F:\\\\Download Folder\\\\Test_video.mkv\")\n",
    "\n",
    "# Lists to hold average coordinates\n",
    "right_avg_x_values, right_avg_y_values, left_avg_x_values, left_avg_y_values = [], [], [], []\n",
    "\n",
    "while cap.isOpened():\n",
    "    ret, frame = cap.read()\n",
    "    if not ret:\n",
    "        break\n",
    "\n",
    "    results = face_mesh.process(frame)\n",
    "\n",
    "    if results.multi_face_landmarks:\n",
    "        for face_landmarks in results.multi_face_landmarks:\n",
    "            right_landmark_coords, left_landmark_coords = [], []\n",
    "\n",
    "            for index in right_eye_indices:\n",
    "                landmark = face_landmarks.landmark[index]\n",
    "                x, y = int(landmark.x * frame.shape[1]), int(landmark.y * frame.shape[0])\n",
    "                right_landmark_coords.extend([x, y])\n",
    "\n",
    "            for index in left_eye_indices:\n",
    "                landmark = face_landmarks.landmark[index]\n",
    "                x, y = int(landmark.x * frame.shape[1]), int(landmark.y * frame.shape[0])\n",
    "                left_landmark_coords.extend([x, y])\n",
    "\n",
    "            right_avg_x = np.mean(right_landmark_coords[::2])\n",
    "            right_avg_y = np.mean(right_landmark_coords[1::2])\n",
    "            left_avg_x = np.mean(left_landmark_coords[::2])\n",
    "            left_avg_y = np.mean(left_landmark_coords[1::2])\n",
    "\n",
    "            right_avg_x_values.append(right_avg_x)\n",
    "            right_avg_y_values.append(right_avg_y)\n",
    "            left_avg_x_values.append(left_avg_x)\n",
    "            left_avg_y_values.append(left_avg_y)\n",
    "\n",
    "# Calculate metrics\n",
    "metrics = {\n",
    "    \"Right Eye Avg X Std\": np.std(right_avg_x_values),\n",
    "    \"Right Eye Avg Y Std\": np.std(right_avg_y_values),\n",
    "    \"Left Eye Avg X Std\": np.std(left_avg_x_values),\n",
    "    \"Left Eye Avg Y Std\": np.std(left_avg_y_values),\n",
    "    \"Right Eye Avg X MAD\": np.mean(np.abs(right_avg_x_values - np.mean(right_avg_x_values))),\n",
    "    \"Right Eye Avg Y MAD\": np.mean(np.abs(right_avg_y_values - np.mean(right_avg_y_values))),\n",
    "    \"Left Eye Avg X MAD\": np.mean(np.abs(left_avg_x_values - np.mean(left_avg_x_values))),\n",
    "    \"Left Eye Avg Y MAD\": np.mean(np.abs(left_avg_y_values - np.mean(left_avg_y_values))),\n",
    "    \"Right Eye Avg X IQR\": stats.iqr(right_avg_x_values),\n",
    "    \"Right Eye Avg Y IQR\": stats.iqr(right_avg_y_values),\n",
    "    \"Left Eye Avg X IQR\": stats.iqr(left_avg_x_values),\n",
    "    \"Left Eye Avg Y IQR\": stats.iqr(left_avg_y_values)\n",
    "}\n",
    "\n",
    "# Convert to DataFrame\n",
    "results_df = pd.DataFrame([metrics])\n",
    "\n",
    "# Save the DataFrame to a CSV file\n",
    "results_df.to_csv(\"eye_features.csv\", index=False)\n",
    "\n",
    "print(\"Eye feature analysis results saved to eye_features.csv\")\n",
    "\n",
    "# Clean-up resources\n",
    "cap.release()\n"
   ]
  }
 ],
 "metadata": {
  "kernelspec": {
   "display_name": "Python 3",
   "language": "python",
   "name": "python3"
  },
  "language_info": {
   "codemirror_mode": {
    "name": "ipython",
    "version": 3
   },
   "file_extension": ".py",
   "mimetype": "text/x-python",
   "name": "python",
   "nbconvert_exporter": "python",
   "pygments_lexer": "ipython3",
   "version": "3.11.7"
  }
 },
 "nbformat": 4,
 "nbformat_minor": 2
}
